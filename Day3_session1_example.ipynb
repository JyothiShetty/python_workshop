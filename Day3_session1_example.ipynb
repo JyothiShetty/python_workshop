{
  "nbformat": 4,
  "nbformat_minor": 0,
  "metadata": {
    "colab": {
      "name": "Day3 session1 example.ipynb",
      "provenance": [],
      "collapsed_sections": [],
      "authorship_tag": "ABX9TyNKz3U2RwIeyWLBxxpiPFXf",
      "include_colab_link": true
    },
    "kernelspec": {
      "name": "python3",
      "display_name": "Python 3"
    }
  },
  "cells": [
    {
      "cell_type": "markdown",
      "metadata": {
        "id": "view-in-github",
        "colab_type": "text"
      },
      "source": [
        "<a href=\"https://colab.research.google.com/github/JyothiShetty/python_workshop/blob/master/Day3_session1_example.ipynb\" target=\"_parent\"><img src=\"https://colab.research.google.com/assets/colab-badge.svg\" alt=\"Open In Colab\"/></a>"
      ]
    },
    {
      "cell_type": "markdown",
      "metadata": {
        "id": "WDHpsESYN9J7",
        "colab_type": "text"
      },
      "source": [
        "#Program for prime number"
      ]
    },
    {
      "cell_type": "code",
      "metadata": {
        "id": "ANshc-7pOAcs",
        "colab_type": "code",
        "colab": {
          "base_uri": "https://localhost:8080/",
          "height": 34
        },
        "outputId": "8e740a02-8c75-4d90-e097-8b2942585688"
      },
      "source": [
        "i=3\n",
        "for x in range (2,i//2+1):\n",
        "  if i%x==0:\n",
        "    print(\"the number {} is not a prime\" .format(i))\n",
        "    break\n",
        "else:\n",
        "    print(\"the number {} is prime\".format(i)) \n"
      ],
      "execution_count": 4,
      "outputs": [
        {
          "output_type": "stream",
          "text": [
            "the number 3 is prime\n"
          ],
          "name": "stdout"
        }
      ]
    },
    {
      "cell_type": "markdown",
      "metadata": {
        "id": "Z8VU_PFGSV4I",
        "colab_type": "text"
      },
      "source": [
        "#unpacking"
      ]
    },
    {
      "cell_type": "code",
      "metadata": {
        "id": "viWpBNtVN-JL",
        "colab_type": "code",
        "colab": {
          "base_uri": "https://localhost:8080/",
          "height": 50
        },
        "outputId": "569094c6-2f41-4037-e1ee-d3afeff26f8a"
      },
      "source": [
        "a,b=2,'my-string'\n",
        "print(a)\n",
        "print(b)"
      ],
      "execution_count": 5,
      "outputs": [
        {
          "output_type": "stream",
          "text": [
            "2\n",
            "my-string\n"
          ],
          "name": "stdout"
        }
      ]
    },
    {
      "cell_type": "markdown",
      "metadata": {
        "id": "fB1G62QxTF4d",
        "colab_type": "text"
      },
      "source": [
        "#bad unpacking"
      ]
    },
    {
      "cell_type": "code",
      "metadata": {
        "id": "pkXF-hbQTB0Z",
        "colab_type": "code",
        "colab": {
          "base_uri": "https://localhost:8080/",
          "height": 34
        },
        "outputId": "c9c07183-9898-4a66-e620-1d3380403dc3"
      },
      "source": [
        "x = (1, 2, 4, 8, 16)\n",
        "a = x[0]\n",
        "b = x[1]\n",
        "c = x[2]\n",
        "d = x[3]\n",
        "e = x[4]\n",
        "print(a, b, c, d, e)"
      ],
      "execution_count": 6,
      "outputs": [
        {
          "output_type": "stream",
          "text": [
            "1 2 4 8 16\n"
          ],
          "name": "stdout"
        }
      ]
    },
    {
      "cell_type": "markdown",
      "metadata": {
        "id": "uiyiRdfpTLJa",
        "colab_type": "text"
      },
      "source": [
        "#Excellent unpacking"
      ]
    },
    {
      "cell_type": "code",
      "metadata": {
        "id": "iJa5UfkoTOZn",
        "colab_type": "code",
        "colab": {
          "base_uri": "https://localhost:8080/",
          "height": 34
        },
        "outputId": "210fa623-4ad6-4807-d24c-e4a63824e289"
      },
      "source": [
        "a,b,c,d,e=x\n",
        "print(a, b, c, d, e)"
      ],
      "execution_count": 7,
      "outputs": [
        {
          "output_type": "stream",
          "text": [
            "1 2 4 8 16\n"
          ],
          "name": "stdout"
        }
      ]
    },
    {
      "cell_type": "markdown",
      "metadata": {
        "id": "qnR2yv5aTbzK",
        "colab_type": "text"
      },
      "source": [
        "#unpacking some elements"
      ]
    },
    {
      "cell_type": "code",
      "metadata": {
        "id": "3FIUyHtjTgI1",
        "colab_type": "code",
        "colab": {
          "base_uri": "https://localhost:8080/",
          "height": 67
        },
        "outputId": "f72e9696-eed5-4145-e64a-8cac7b4565ca"
      },
      "source": [
        "a, *y, e = x\n",
        "print(a)\n",
        "print(y)\n",
        "print(e)"
      ],
      "execution_count": 8,
      "outputs": [
        {
          "output_type": "stream",
          "text": [
            "1\n",
            "[2, 4, 8]\n",
            "16\n"
          ],
          "name": "stdout"
        }
      ]
    },
    {
      "cell_type": "markdown",
      "metadata": {
        "id": "CnmnGyNQT_Xb",
        "colab_type": "text"
      },
      "source": [
        "#Using Chaining to Write Concise Code"
      ]
    },
    {
      "cell_type": "code",
      "metadata": {
        "id": "rGqjkDoIUEwM",
        "colab_type": "code",
        "colab": {
          "base_uri": "https://localhost:8080/",
          "height": 34
        },
        "outputId": "d361390b-3467-451b-e39f-a8b33c4b3a6a"
      },
      "source": [
        "x = 4\n",
        "print(x >= 2 and x <= 8)"
      ],
      "execution_count": 9,
      "outputs": [
        {
          "output_type": "stream",
          "text": [
            "True\n"
          ],
          "name": "stdout"
        }
      ]
    },
    {
      "cell_type": "markdown",
      "metadata": {
        "id": "Llk4tUHHUUxX",
        "colab_type": "text"
      },
      "source": [
        "#Instead, you can write this in a more compact form, like mathematicians do:"
      ]
    },
    {
      "cell_type": "code",
      "metadata": {
        "id": "ZcpmGoV-Ua5H",
        "colab_type": "code",
        "colab": {
          "base_uri": "https://localhost:8080/",
          "height": 50
        },
        "outputId": "efc2f943-ac16-43cc-ecae-e1094b2052ee"
      },
      "source": [
        "print(2 <= x <= 8)\n",
        "print(2 <= x <= 3)"
      ],
      "execution_count": 10,
      "outputs": [
        {
          "output_type": "stream",
          "text": [
            "True\n",
            "False\n"
          ],
          "name": "stdout"
        }
      ]
    },
    {
      "cell_type": "markdown",
      "metadata": {
        "id": "gDMU8QEoUx0R",
        "colab_type": "text"
      },
      "source": [
        "#chained assignments"
      ]
    },
    {
      "cell_type": "code",
      "metadata": {
        "id": "umXsgBXHUz5V",
        "colab_type": "code",
        "colab": {
          "base_uri": "https://localhost:8080/",
          "height": 34
        },
        "outputId": "fcbbdb59-a19d-4cc1-817c-a847730cef98"
      },
      "source": [
        "x = y = z = 2\n",
        "x, y, z"
      ],
      "execution_count": 11,
      "outputs": [
        {
          "output_type": "execute_result",
          "data": {
            "text/plain": [
              "(2, 2, 2)"
            ]
          },
          "metadata": {
            "tags": []
          },
          "execution_count": 11
        }
      ]
    },
    {
      "cell_type": "markdown",
      "metadata": {
        "id": "hYA4QPtdVAUL",
        "colab_type": "text"
      },
      "source": [
        "#Checking against None"
      ]
    },
    {
      "cell_type": "code",
      "metadata": {
        "id": "osmVitPwVBxo",
        "colab_type": "code",
        "colab": {
          "base_uri": "https://localhost:8080/",
          "height": 84
        },
        "outputId": "4221d0bd-5eae-4976-90d5-29baff041b90"
      },
      "source": [
        "# normal way\n",
        "x, y = 2, None\n",
        "print(x == None)\n",
        "print(y == None)\n",
        "print(x != None)\n",
        "print(y != None)"
      ],
      "execution_count": 12,
      "outputs": [
        {
          "output_type": "stream",
          "text": [
            "False\n",
            "True\n",
            "True\n",
            "False\n"
          ],
          "name": "stdout"
        }
      ]
    },
    {
      "cell_type": "markdown",
      "metadata": {
        "id": "DEoDoT3aVLGi",
        "colab_type": "text"
      },
      "source": [
        "#In pythonic way"
      ]
    },
    {
      "cell_type": "code",
      "metadata": {
        "id": "WMPjT5wCVMlA",
        "colab_type": "code",
        "colab": {
          "base_uri": "https://localhost:8080/",
          "height": 84
        },
        "outputId": "976eb936-af20-44ea-b894-39366e819a14"
      },
      "source": [
        "x is None\n",
        "print(x is None)\n",
        "print(y is None)\n",
        "print(x is not None)\n",
        "print(y is not None)"
      ],
      "execution_count": 13,
      "outputs": [
        {
          "output_type": "stream",
          "text": [
            "False\n",
            "True\n",
            "True\n",
            "False\n"
          ],
          "name": "stdout"
        }
      ]
    },
    {
      "cell_type": "markdown",
      "metadata": {
        "id": "4WP0U5BbVVbd",
        "colab_type": "text"
      },
      "source": [
        "#Iterating over Sequences"
      ]
    },
    {
      "cell_type": "code",
      "metadata": {
        "id": "WwUoRPXlVXAd",
        "colab_type": "code",
        "colab": {
          "base_uri": "https://localhost:8080/",
          "height": 101
        },
        "outputId": "c374616e-afd9-4d74-fd64-d99550a52e2d"
      },
      "source": [
        "x = [1, 2, 4, 8, 16]\n",
        "for i in range(len(x)):\n",
        "  print(x[i])"
      ],
      "execution_count": 15,
      "outputs": [
        {
          "output_type": "stream",
          "text": [
            "1\n",
            "2\n",
            "4\n",
            "8\n",
            "16\n"
          ],
          "name": "stdout"
        }
      ]
    },
    {
      "cell_type": "markdown",
      "metadata": {
        "id": "aLr4l1cVVewx",
        "colab_type": "text"
      },
      "source": [
        "#But instead we can do like this in elegant way"
      ]
    },
    {
      "cell_type": "code",
      "metadata": {
        "id": "B_L7dSkfVkbv",
        "colab_type": "code",
        "colab": {
          "base_uri": "https://localhost:8080/",
          "height": 101
        },
        "outputId": "5da65152-a2b3-47bc-9c3e-80b90389c597"
      },
      "source": [
        "for item in x:\n",
        "  print(item)"
      ],
      "execution_count": 17,
      "outputs": [
        {
          "output_type": "stream",
          "text": [
            "1\n",
            "2\n",
            "4\n",
            "8\n",
            "16\n"
          ],
          "name": "stdout"
        }
      ]
    },
    {
      "cell_type": "markdown",
      "metadata": {
        "id": "p_M1lj6LVz2f",
        "colab_type": "text"
      },
      "source": [
        "#to iterate in the reversed order"
      ]
    },
    {
      "cell_type": "code",
      "metadata": {
        "id": "uA9FJh-CV1Bk",
        "colab_type": "code",
        "colab": {
          "base_uri": "https://localhost:8080/",
          "height": 101
        },
        "outputId": "1a1046a3-34c3-40e0-f132-9313e2017c44"
      },
      "source": [
        "for i in range(len(x)-1, -1, -1):\n",
        "  print(x[i])"
      ],
      "execution_count": 18,
      "outputs": [
        {
          "output_type": "stream",
          "text": [
            "16\n",
            "8\n",
            "4\n",
            "2\n",
            "1\n"
          ],
          "name": "stdout"
        }
      ]
    },
    {
      "cell_type": "code",
      "metadata": {
        "id": "b4EJpsNwV_Vu",
        "colab_type": "code",
        "colab": {
          "base_uri": "https://localhost:8080/",
          "height": 101
        },
        "outputId": "46030157-e768-4420-eda1-e3ab49b98c16"
      },
      "source": [
        "for item in x[::-1]:\n",
        "  print(item)"
      ],
      "execution_count": 19,
      "outputs": [
        {
          "output_type": "stream",
          "text": [
            "16\n",
            "8\n",
            "4\n",
            "2\n",
            "1\n"
          ],
          "name": "stdout"
        }
      ]
    },
    {
      "cell_type": "markdown",
      "metadata": {
        "id": "ExbzLSm7U__v",
        "colab_type": "text"
      },
      "source": [
        ""
      ]
    },
    {
      "cell_type": "code",
      "metadata": {
        "id": "aonDQ2pRWHEc",
        "colab_type": "code",
        "colab": {
          "base_uri": "https://localhost:8080/",
          "height": 101
        },
        "outputId": "f9d3a33d-0384-4791-9302-46f944f2db3e"
      },
      "source": [
        "for item in reversed(x):\n",
        "  print(item)"
      ],
      "execution_count": 20,
      "outputs": [
        {
          "output_type": "stream",
          "text": [
            "16\n",
            "8\n",
            "4\n",
            "2\n",
            "1\n"
          ],
          "name": "stdout"
        }
      ]
    },
    {
      "cell_type": "code",
      "metadata": {
        "id": "yVGrKvETWOIx",
        "colab_type": "code",
        "colab": {
          "base_uri": "https://localhost:8080/",
          "height": 34
        },
        "outputId": "38d3364f-9e35-4c57-8b18-feca2b729ca5"
      },
      "source": [
        "x=[1,2,4,8,16]\n",
        "print(x[::-1])"
      ],
      "execution_count": 21,
      "outputs": [
        {
          "output_type": "stream",
          "text": [
            "[16, 8, 4, 2, 1]\n"
          ],
          "name": "stdout"
        }
      ]
    },
    {
      "cell_type": "markdown",
      "metadata": {
        "id": "gfC_sm_0W2D7",
        "colab_type": "text"
      },
      "source": [
        "#Sometimes you need both the items from a sequence and the corresponding indices:"
      ]
    },
    {
      "cell_type": "code",
      "metadata": {
        "id": "T1L2-CoJXrlt",
        "colab_type": "code",
        "colab": {
          "base_uri": "https://localhost:8080/",
          "height": 101
        },
        "outputId": "e56a98bc-813f-4be3-c90d-f5b9907d9b33"
      },
      "source": [
        "for i in range(len(x)):\n",
        "  print(i, x[i])"
      ],
      "execution_count": 22,
      "outputs": [
        {
          "output_type": "stream",
          "text": [
            "0 1\n",
            "1 2\n",
            "2 4\n",
            "3 8\n",
            "4 16\n"
          ],
          "name": "stdout"
        }
      ]
    },
    {
      "cell_type": "markdown",
      "metadata": {
        "id": "pCHlgG7VXxji",
        "colab_type": "text"
      },
      "source": [
        "#It’s better to use enumerate to get another iterator that yields the tuples with the indices and items:"
      ]
    },
    {
      "cell_type": "code",
      "metadata": {
        "id": "AyyJ_IoJX7aO",
        "colab_type": "code",
        "colab": {
          "base_uri": "https://localhost:8080/",
          "height": 101
        },
        "outputId": "c0168109-af91-4700-fce2-bbe2fab283f7"
      },
      "source": [
        "for i, item in enumerate(x):\n",
        "  print(i, item)"
      ],
      "execution_count": 23,
      "outputs": [
        {
          "output_type": "stream",
          "text": [
            "0 1\n",
            "1 2\n",
            "2 4\n",
            "3 8\n",
            "4 16\n"
          ],
          "name": "stdout"
        }
      ]
    },
    {
      "cell_type": "markdown",
      "metadata": {
        "id": "goyI4oTfYOD7",
        "colab_type": "text"
      },
      "source": [
        "#what if you want to iterate over two or more sequences? Of course, you can use the range again:"
      ]
    },
    {
      "cell_type": "code",
      "metadata": {
        "id": "FIqN3yDGYTW0",
        "colab_type": "code",
        "colab": {
          "base_uri": "https://localhost:8080/",
          "height": 101
        },
        "outputId": "7cfcf562-5f57-44e4-e570-00bad0d642dc"
      },
      "source": [
        "y = 'abcde'\n",
        "for i in range(len(x)):\n",
        "  print(x[i], y[i])"
      ],
      "execution_count": 24,
      "outputs": [
        {
          "output_type": "stream",
          "text": [
            "1 a\n",
            "2 b\n",
            "4 c\n",
            "8 d\n",
            "16 e\n"
          ],
          "name": "stdout"
        }
      ]
    },
    {
      "cell_type": "markdown",
      "metadata": {
        "id": "fKkPH8MXYloW",
        "colab_type": "text"
      },
      "source": [
        "#In this case, Python also offers a better solution. You can apply zip and get tuples of the corresponding items:"
      ]
    },
    {
      "cell_type": "code",
      "metadata": {
        "id": "QvVQaNVXYoTl",
        "colab_type": "code",
        "colab": {
          "base_uri": "https://localhost:8080/",
          "height": 101
        },
        "outputId": "3027598b-d115-44f3-fe21-c94eadfca6c0"
      },
      "source": [
        "for item in zip(x, y):\n",
        "  print(item)"
      ],
      "execution_count": 25,
      "outputs": [
        {
          "output_type": "stream",
          "text": [
            "(1, 'a')\n",
            "(2, 'b')\n",
            "(4, 'c')\n",
            "(8, 'd')\n",
            "(16, 'e')\n"
          ],
          "name": "stdout"
        }
      ]
    },
    {
      "cell_type": "code",
      "metadata": {
        "id": "7Akm85XCY_J-",
        "colab_type": "code",
        "colab": {
          "base_uri": "https://localhost:8080/",
          "height": 101
        },
        "outputId": "d85513c9-1af7-4fbb-f9f5-044c90440200"
      },
      "source": [
        "#You can combine it with unpacking:\n",
        "for x_item, y_item in zip(x, y):\n",
        "  print(x_item, y_item)"
      ],
      "execution_count": 26,
      "outputs": [
        {
          "output_type": "stream",
          "text": [
            "1 a\n",
            "2 b\n",
            "4 c\n",
            "8 d\n",
            "16 e\n"
          ],
          "name": "stdout"
        }
      ]
    },
    {
      "cell_type": "markdown",
      "metadata": {
        "id": "wLAKAXpgZEig",
        "colab_type": "text"
      },
      "source": [
        "#Dictionary can be iterated in these two ways"
      ]
    },
    {
      "cell_type": "code",
      "metadata": {
        "id": "zvJkVPPLZGAy",
        "colab_type": "code",
        "colab": {
          "base_uri": "https://localhost:8080/",
          "height": 50
        },
        "outputId": "6e33c100-5009-446c-e841-254e3352688f"
      },
      "source": [
        "z = {'a': 0, 'b': 1}\n",
        "for k in z:\n",
        "  print(k, z[k])"
      ],
      "execution_count": 28,
      "outputs": [
        {
          "output_type": "stream",
          "text": [
            "a 0\n",
            "b 1\n"
          ],
          "name": "stdout"
        }
      ]
    },
    {
      "cell_type": "code",
      "metadata": {
        "id": "6eq30bs2ZZme",
        "colab_type": "code",
        "colab": {
          "base_uri": "https://localhost:8080/",
          "height": 50
        },
        "outputId": "e64028fd-a67d-47b3-923a-3ab7107f51cb"
      },
      "source": [
        "for k, v in z.items():\n",
        "  print(k, v)"
      ],
      "execution_count": 29,
      "outputs": [
        {
          "output_type": "stream",
          "text": [
            "a 0\n",
            "b 1\n"
          ],
          "name": "stdout"
        }
      ]
    },
    {
      "cell_type": "markdown",
      "metadata": {
        "id": "6HpreDarZn4h",
        "colab_type": "text"
      },
      "source": [
        "#Comparing to Zero"
      ]
    },
    {
      "cell_type": "code",
      "metadata": {
        "id": "9CVhYmPiZo-R",
        "colab_type": "code",
        "colab": {
          "base_uri": "https://localhost:8080/",
          "height": 84
        },
        "outputId": "1b024ca9-6615-46a8-f20e-1aa9cd6973ca"
      },
      "source": [
        "#To print only non zero values from tuple x\n",
        "x = (1, 2, 0, 3, 0, 4)\n",
        "for item in x:\n",
        "  if item != 0:\n",
        "    print(item)"
      ],
      "execution_count": 30,
      "outputs": [
        {
          "output_type": "stream",
          "text": [
            "1\n",
            "2\n",
            "3\n",
            "4\n"
          ],
          "name": "stdout"
        }
      ]
    },
    {
      "cell_type": "code",
      "metadata": {
        "id": "20a8E4DqaAfM",
        "colab_type": "code",
        "colab": {
          "base_uri": "https://localhost:8080/",
          "height": 84
        },
        "outputId": "cbc854ed-98ba-4248-92d4-a4a90c5c90a2"
      },
      "source": [
        "for item in x:\n",
        "  if item:\n",
        "    print(item)"
      ],
      "execution_count": 31,
      "outputs": [
        {
          "output_type": "stream",
          "text": [
            "1\n",
            "2\n",
            "3\n",
            "4\n"
          ],
          "name": "stdout"
        }
      ]
    },
    {
      "cell_type": "markdown",
      "metadata": {
        "id": "x7giIPCzaTZZ",
        "colab_type": "text"
      },
      "source": [
        "#Avoiding Mutable Optional Arguments"
      ]
    },
    {
      "cell_type": "code",
      "metadata": {
        "id": "SMA57xQwaUso",
        "colab_type": "code",
        "colab": {
          "base_uri": "https://localhost:8080/",
          "height": 34
        },
        "outputId": "411250d5-d462-45db-87e9-e5469f19d284"
      },
      "source": [
        "def func(value, seq=[]):\n",
        "  seq.append(value)\n",
        "  return seq\n",
        "print(func(value=2))"
      ],
      "execution_count": 34,
      "outputs": [
        {
          "output_type": "stream",
          "text": [
            "[2]\n"
          ],
          "name": "stdout"
        }
      ]
    },
    {
      "cell_type": "code",
      "metadata": {
        "id": "_KPE1k2ya6G3",
        "colab_type": "code",
        "colab": {
          "base_uri": "https://localhost:8080/",
          "height": 67
        },
        "outputId": "839c7ff1-13f3-40c0-90ca-9db76236c72a"
      },
      "source": [
        "print(func(value=4))\n",
        "print(func(value=6))\n",
        "print(func(value=8))"
      ],
      "execution_count": 35,
      "outputs": [
        {
          "output_type": "stream",
          "text": [
            "[2, 4]\n",
            "[2, 4, 6]\n",
            "[2, 4, 6, 8]\n"
          ],
          "name": "stdout"
        }
      ]
    },
    {
      "cell_type": "markdown",
      "metadata": {
        "id": "PNjahZ8ZbFqQ",
        "colab_type": "text"
      },
      "source": [
        "#keep away from that with some additional logic."
      ]
    },
    {
      "cell_type": "code",
      "metadata": {
        "id": "lBCQ06bobHrt",
        "colab_type": "code",
        "colab": {
          "base_uri": "https://localhost:8080/",
          "height": 34
        },
        "outputId": "5411e865-38ab-4263-8bea-b37503e5db11"
      },
      "source": [
        "def func(value, seq=None):\n",
        "  if seq is None:\n",
        "    seq = []\n",
        "    seq.append(value)\n",
        "    return seq\n",
        "print(func(value=6))"
      ],
      "execution_count": 36,
      "outputs": [
        {
          "output_type": "stream",
          "text": [
            "[6]\n"
          ],
          "name": "stdout"
        }
      ]
    }
  ]
}